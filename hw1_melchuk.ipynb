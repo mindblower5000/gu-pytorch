{
 "cells": [
  {
   "cell_type": "markdown",
   "metadata": {},
   "source": [
    "#HW1 Мельчук А.Б.\n",
    "\n",
    "1. Добиться вразумительного результата от модели, собранной на занятии (3\n",
    "угаданные картинки из 4 предложенных на семинаре). Варианты изменений:\n",
    "a. изменение слоёв и их количества;\n",
    "b. изменение метода оптимизации;\n",
    "c. изменение процесса обучения;\n",
    "d. для продвинутых: преобразование данных.\n",
    "2. Взять часть, где мы делали один шаг обучения, и обернуть его в цикл по схеме,\n",
    "как обучали модель в конце занятия.\n",
    "3. Переписать эту программу на PyTorch:\n",
    "\n",
    "Не забудьте про реализацию функции forward!"
   ]
  },
  {
   "attachments": {
    "1.jpg": {
     "image/jpeg": "[encoded data removed]"
    }
   },
   "cell_type": "markdown",
   "metadata": {},
   "source": [
    "![1.jpg](attachment:1.jpg)"
   ]
  },
  {
   "cell_type": "code",
   "execution_count": 1,
   "metadata": {},
   "outputs": [],
   "source": [
    "import torch\n",
    "from torch import nn \n",
    "from torch import optim\n",
    "from torch.utils.data import DataLoader\n",
    "\n",
    "import torchvision\n",
    "from torchvision import transforms\n",
    "from torchvision import datasets\n",
    "\n",
    "import matplotlib.pyplot as plt\n",
    "\n",
    "import numpy as np"
   ]
  },
  {
   "cell_type": "markdown",
   "metadata": {},
   "source": [
    "# 1"
   ]
  },
  {
   "cell_type": "code",
   "execution_count": 2,
   "metadata": {},
   "outputs": [],
   "source": [
    "classes = ('plane', 'car', 'bird', 'cat',\n",
    "           'deer', 'dog', 'frog', 'horse', 'ship', 'truck')"
   ]
  },
  {
   "cell_type": "markdown",
   "metadata": {},
   "source": [
    "Средства аугментации данных не принесли значительного улучшения в качество модели, по-этому от них решил отказаться"
   ]
  },
  {
   "cell_type": "code",
   "execution_count": 3,
   "metadata": {},
   "outputs": [],
   "source": [
    "transforms_pytorch = transforms.Compose([\n",
    "    transforms.ToTensor(),\n",
    "#     transforms.ColorJitter(hue=.05, saturation=.05),\n",
    "#     transforms.RandomHorizontalFlip()\n",
    "])"
   ]
  },
  {
   "cell_type": "code",
   "execution_count": 35,
   "metadata": {},
   "outputs": [],
   "source": [
    "train_dataset = datasets.CIFAR10(root='../../data/',\n",
    "                                             train=True,  \n",
    "                                             transform=transforms_pytorch, \n",
    "                                             download=False)\n",
    "\n",
    "test_dataset = datasets.CIFAR10(root='../../data/test', train=False,\n",
    "                                       download=False, transform=transforms.ToTensor())\n"
   ]
  },
  {
   "cell_type": "code",
   "execution_count": 5,
   "metadata": {},
   "outputs": [],
   "source": [
    "train_loader = DataLoader(dataset=train_dataset,\n",
    "                                           batch_size=64, \n",
    "                                           shuffle=True)\n",
    "\n",
    "test_loader = DataLoader(test_dataset, batch_size=10,\n",
    "                                         shuffle=False)"
   ]
  },
  {
   "cell_type": "markdown",
   "metadata": {},
   "source": [
    "Дополним свёрточную часть сети ещё одним слоем, и уменьшим размер фильтра. Так же добавим dropout нормализацию полносвязным слоям сети."
   ]
  },
  {
   "cell_type": "code",
   "execution_count": 25,
   "metadata": {},
   "outputs": [],
   "source": [
    "import torch.nn.functional as F\n",
    "\n",
    "\n",
    "class Net(nn.Module):\n",
    "    def __init__(self):\n",
    "        super().__init__()\n",
    "        self.conv1 = nn.Conv2d(3, 6, 3)\n",
    "        self.pool = nn.MaxPool2d(2, 2)\n",
    "        self.conv2 = nn.Conv2d(6, 16, 3)\n",
    "        self.conv3 = nn.Conv2d(16, 32, 3)\n",
    "        self.fc1 = nn.Linear(32 * 2 * 2, 120)\n",
    "        self.fc2 = nn.Linear(120, 84)\n",
    "        self.fc3 = nn.Linear(84, 10)\n",
    "        self.dpo1 = nn.Dropout(0.2)\n",
    "        self.dpo2 = nn.Dropout(0.2)\n",
    "\n",
    "    def forward(self, x):\n",
    "        x = self.pool(F.relu(self.conv1(x)))\n",
    "        x = self.pool(F.relu(self.conv2(x)))\n",
    "        x = self.pool(F.relu(self.conv3(x)))\n",
    "        x = x.view(-1, 32 * 2 * 2)\n",
    "        x = self.dpo1(F.relu(self.fc1(x)))\n",
    "        x = self.dpo2(F.relu(self.fc2(x)))\n",
    "        x = self.fc3(x)\n",
    "        return x\n",
    "\n",
    "\n",
    "net = Net().to('cpu')"
   ]
  },
  {
   "cell_type": "markdown",
   "metadata": {},
   "source": [
    "Поменяем алгоритм оптимизации, и чуть увеличим его шаг."
   ]
  },
  {
   "cell_type": "code",
   "execution_count": 26,
   "metadata": {},
   "outputs": [],
   "source": [
    "criterion = nn.CrossEntropyLoss()\n",
    "optimizer = optim.Adam(net.parameters(), lr=1e-3)"
   ]
  },
  {
   "cell_type": "code",
   "execution_count": 27,
   "metadata": {},
   "outputs": [
    {
     "name": "stdout",
     "output_type": "stream",
     "text": [
      "Model state_dict: \n",
      "conv1.weight  \\  torch.Size([6, 3, 3, 3])\n",
      "conv1.bias  \\  torch.Size([6])\n",
      "conv2.weight  \\  torch.Size([16, 6, 3, 3])\n",
      "conv2.bias  \\  torch.Size([16])\n",
      "conv3.weight  \\  torch.Size([32, 16, 3, 3])\n",
      "conv3.bias  \\  torch.Size([32])\n",
      "fc1.weight  \\  torch.Size([120, 128])\n",
      "fc1.bias  \\  torch.Size([120])\n",
      "fc2.weight  \\  torch.Size([84, 120])\n",
      "fc2.bias  \\  torch.Size([84])\n",
      "fc3.weight  \\  torch.Size([10, 84])\n",
      "fc3.bias  \\  torch.Size([10])\n"
     ]
    }
   ],
   "source": [
    "print(\"Model state_dict: \")\n",
    "for param in net.state_dict():\n",
    "    print(param,\" \\ \", net.state_dict()[param].size())"
   ]
  },
  {
   "cell_type": "markdown",
   "metadata": {},
   "source": [
    "Увеличим количество эпох обучения до 20"
   ]
  },
  {
   "cell_type": "code",
   "execution_count": 28,
   "metadata": {},
   "outputs": [
    {
     "name": "stdout",
     "output_type": "stream",
     "text": [
      "[1,     1] loss: 0.001\n",
      "[1,   301] loss: 0.316\n",
      "[1,   601] loss: 0.278\n",
      "[2,     1] loss: 0.001\n",
      "[2,   301] loss: 0.254\n",
      "[2,   601] loss: 0.245\n",
      "[3,     1] loss: 0.001\n",
      "[3,   301] loss: 0.233\n",
      "[3,   601] loss: 0.225\n",
      "[4,     1] loss: 0.001\n",
      "[4,   301] loss: 0.218\n",
      "[4,   601] loss: 0.214\n",
      "[5,     1] loss: 0.001\n",
      "[5,   301] loss: 0.207\n",
      "[5,   601] loss: 0.205\n",
      "[6,     1] loss: 0.001\n",
      "[6,   301] loss: 0.200\n",
      "[6,   601] loss: 0.198\n",
      "[7,     1] loss: 0.001\n",
      "[7,   301] loss: 0.193\n",
      "[7,   601] loss: 0.194\n",
      "[8,     1] loss: 0.001\n",
      "[8,   301] loss: 0.189\n",
      "[8,   601] loss: 0.187\n",
      "[9,     1] loss: 0.001\n",
      "[9,   301] loss: 0.186\n",
      "[9,   601] loss: 0.183\n",
      "[10,     1] loss: 0.001\n",
      "[10,   301] loss: 0.179\n",
      "[10,   601] loss: 0.181\n",
      "[11,     1] loss: 0.001\n",
      "[11,   301] loss: 0.178\n",
      "[11,   601] loss: 0.177\n",
      "[12,     1] loss: 0.001\n",
      "[12,   301] loss: 0.176\n",
      "[12,   601] loss: 0.173\n",
      "[13,     1] loss: 0.001\n",
      "[13,   301] loss: 0.171\n",
      "[13,   601] loss: 0.172\n",
      "[14,     1] loss: 0.001\n",
      "[14,   301] loss: 0.169\n",
      "[14,   601] loss: 0.170\n",
      "[15,     1] loss: 0.000\n",
      "[15,   301] loss: 0.167\n",
      "[15,   601] loss: 0.168\n",
      "[16,     1] loss: 0.001\n",
      "[16,   301] loss: 0.165\n",
      "[16,   601] loss: 0.167\n",
      "[17,     1] loss: 0.000\n",
      "[17,   301] loss: 0.163\n",
      "[17,   601] loss: 0.165\n",
      "[18,     1] loss: 0.001\n",
      "[18,   301] loss: 0.162\n",
      "[18,   601] loss: 0.165\n",
      "[19,     1] loss: 0.000\n",
      "[19,   301] loss: 0.161\n",
      "[19,   601] loss: 0.162\n",
      "[20,     1] loss: 0.001\n",
      "[20,   301] loss: 0.160\n",
      "[20,   601] loss: 0.158\n",
      "Training is finished!\n"
     ]
    }
   ],
   "source": [
    "for epoch in range(20):  \n",
    "    running_loss = 0.0\n",
    "    for i, data in enumerate(train_loader, 0):\n",
    "        inputs, labels = data[0], data[1]\n",
    "\n",
    "        # обнуляем градиент\n",
    "        optimizer.zero_grad()\n",
    "\n",
    "        outputs = net(inputs)\n",
    "        loss = criterion(outputs, labels)\n",
    "        loss.backward()\n",
    "        optimizer.step()\n",
    "\n",
    "        # выводим статистику о процессе обучения\n",
    "        running_loss += loss.item()\n",
    "        if i % 300 == 0:   \n",
    "            print('[%d, %5d] loss: %.3f' %\n",
    "                  (epoch + 1, i + 1, running_loss / 2000))\n",
    "            running_loss = 0.0\n",
    "\n",
    "print('Training is finished!')"
   ]
  },
  {
   "cell_type": "code",
   "execution_count": 29,
   "metadata": {},
   "outputs": [],
   "source": [
    "PATH = './cifar_net_version_test_intro.pth'\n",
    "torch.save(net.state_dict(), PATH)"
   ]
  },
  {
   "cell_type": "code",
   "execution_count": 30,
   "metadata": {},
   "outputs": [],
   "source": [
    "data_iter = iter(test_loader)\n",
    "images, labels = data_iter.next()"
   ]
  },
  {
   "cell_type": "code",
   "execution_count": 31,
   "metadata": {},
   "outputs": [
    {
     "name": "stdout",
     "output_type": "stream",
     "text": [
      "GroundTruth:    cat  ship  ship plane  frog  frog   car  frog   cat   car\n"
     ]
    },
    {
     "data": {
      "image/png": "[encoded data removed]",
      "text/plain": [
       "<Figure size 432x288 with 1 Axes>"
      ]
     },
     "metadata": {
      "needs_background": "light"
     },
     "output_type": "display_data"
    }
   ],
   "source": [
    "outputs = net(images)\n",
    "imgs = torchvision.utils.make_grid(images)\n",
    "plt.imshow(imgs.permute(1, 2, 0).numpy())\n",
    "print('GroundTruth: ', ' '.join('%5s' % classes[labels[j]] for j in range(10)))"
   ]
  },
  {
   "cell_type": "code",
   "execution_count": 32,
   "metadata": {},
   "outputs": [
    {
     "name": "stdout",
     "output_type": "stream",
     "text": [
      "GroundTruth:    cat  ship  ship plane  frog  frog   car  frog   cat   car\n",
      "Predicted  :    cat  ship  ship plane  deer  frog   car  frog   dog   car\n"
     ]
    }
   ],
   "source": [
    "_, predicted = torch.max(outputs, 1)\n",
    "\n",
    "print('GroundTruth: ', ' '.join('%5s' % classes[labels[j]] for j in range(10)))\n",
    "print('Predicted  : ', ' '.join('%5s' % classes[predicted[j]]\n",
    "                              for j in range(10)))"
   ]
  },
  {
   "cell_type": "markdown",
   "metadata": {},
   "source": [
    "8 / 10"
   ]
  },
  {
   "cell_type": "markdown",
   "metadata": {},
   "source": [
    "# 2"
   ]
  },
  {
   "cell_type": "code",
   "execution_count": 36,
   "metadata": {},
   "outputs": [],
   "source": [
    "train_dataset_mnist = datasets.MNIST(root='../../data/',\n",
    "                                             train=True,  \n",
    "                                             transform=transforms.ToTensor(), \n",
    "                                             download=False)\n",
    "\n",
    "test_dataset_mnist = datasets.MNIST(root='../../data/test', train=False,\n",
    "                                       download=False, transform=transforms.ToTensor())\n"
   ]
  },
  {
   "cell_type": "code",
   "execution_count": 15,
   "metadata": {},
   "outputs": [
    {
     "name": "stdout",
     "output_type": "stream",
     "text": [
      "torch.Size([1, 28, 28])\n",
      "5\n"
     ]
    }
   ],
   "source": [
    "image, label = train_dataset_mnist[0]\n",
    "print (image.size())\n",
    "print (label)"
   ]
  },
  {
   "cell_type": "code",
   "execution_count": 16,
   "metadata": {},
   "outputs": [
    {
     "data": {
      "text/plain": [
       "<matplotlib.image.AxesImage at 0x7fedbfc73ba8>"
      ]
     },
     "execution_count": 16,
     "metadata": {},
     "output_type": "execute_result"
    },
    {
     "data": {
      "image/png": "[encoded data removed]",
      "text/plain": [
       "<Figure size 432x288 with 1 Axes>"
      ]
     },
     "metadata": {
      "needs_background": "light"
     },
     "output_type": "display_data"
    }
   ],
   "source": [
    "plt.imshow(np.squeeze(image.permute(1, 2, 0).numpy()), cmap='gray')"
   ]
  },
  {
   "cell_type": "code",
   "execution_count": 17,
   "metadata": {},
   "outputs": [],
   "source": [
    "train_loader_mnist = DataLoader(dataset=train_dataset_mnist,\n",
    "                                           batch_size=64, \n",
    "                                           shuffle=True)\n",
    "\n",
    "test_loader_mnist = DataLoader(test_dataset_mnist, batch_size=10,\n",
    "                                         shuffle=False)"
   ]
  },
  {
   "cell_type": "code",
   "execution_count": 18,
   "metadata": {},
   "outputs": [],
   "source": [
    "import torch.nn.functional as F\n",
    "\n",
    "\n",
    "class Net(nn.Module):\n",
    "    def __init__(self):\n",
    "        super().__init__()\n",
    "        self.fc1 = nn.Linear(28 * 28, 128)\n",
    "        self.fc2 = nn.Linear(128, 10)\n",
    "        self.dpo1 = nn.Dropout(0.2)\n",
    "\n",
    "    def forward(self, x):\n",
    "        x = x.view(-1, 28 * 28)\n",
    "        x = self.dpo1(F.relu(self.fc1(x)))\n",
    "        x = F.softmax(self.fc2(x))\n",
    "        return x\n",
    "\n",
    "\n",
    "net = Net().to('cpu')"
   ]
  },
  {
   "cell_type": "code",
   "execution_count": 19,
   "metadata": {},
   "outputs": [],
   "source": [
    "criterion = nn.CrossEntropyLoss()\n",
    "optimizer = optim.Adam(net.parameters())"
   ]
  },
  {
   "cell_type": "code",
   "execution_count": 20,
   "metadata": {},
   "outputs": [
    {
     "name": "stderr",
     "output_type": "stream",
     "text": [
      "/home/alex/anaconda3/lib/python3.7/site-packages/ipykernel_launcher.py:14: UserWarning: Implicit dimension choice for softmax has been deprecated. Change the call to include dim=X as an argument.\n",
      "  \n"
     ]
    },
    {
     "name": "stdout",
     "output_type": "stream",
     "text": [
      "[1,     1] loss: 0.001\n",
      "[1,   301] loss: 0.264\n",
      "[1,   601] loss: 0.240\n",
      "[1,   901] loss: 0.234\n",
      "Accuracy = 85.16500091552734\n",
      "[2,     1] loss: 0.001\n",
      "[2,   301] loss: 0.232\n",
      "[2,   601] loss: 0.231\n",
      "[2,   901] loss: 0.230\n",
      "Accuracy = 93.0199966430664\n",
      "[3,     1] loss: 0.001\n",
      "[3,   301] loss: 0.229\n",
      "[3,   601] loss: 0.228\n",
      "[3,   901] loss: 0.228\n",
      "Accuracy = 94.59666442871094\n",
      "[4,     1] loss: 0.001\n",
      "[4,   301] loss: 0.227\n",
      "[4,   601] loss: 0.227\n",
      "[4,   901] loss: 0.226\n",
      "Accuracy = 95.50166320800781\n",
      "[5,     1] loss: 0.001\n",
      "[5,   301] loss: 0.226\n",
      "[5,   601] loss: 0.226\n",
      "[5,   901] loss: 0.226\n",
      "Accuracy = 96.06500244140625\n",
      "Training is finished!\n"
     ]
    }
   ],
   "source": [
    "for epoch in range(5):  \n",
    "    running_loss = 0.0\n",
    "    correct = 0\n",
    "    for i, data in enumerate(train_loader_mnist, 0):\n",
    "        inputs, labels = data[0], data[1]\n",
    "\n",
    "        # обнуляем градиент\n",
    "        optimizer.zero_grad()\n",
    "\n",
    "        outputs = net(inputs)\n",
    "        loss = criterion(outputs, labels)\n",
    "        loss.backward()\n",
    "        optimizer.step()\n",
    "\n",
    "        # выводим статистику о процессе обучения\n",
    "        running_loss += loss.item()\n",
    "        \n",
    "        _, predicted = torch.max(outputs, 1)\n",
    "        \n",
    "        # считаем количество правильных предсказаний для\n",
    "\n",
    "        correct += (labels == predicted).sum()\n",
    "        if i % 300 == 0:   \n",
    "            print('[%d, %5d] loss: %.3f' %\n",
    "                  (epoch + 1, i + 1, running_loss / 2000))\n",
    "            running_loss = 0.0\n",
    "#     считаем метрику accyracy на каждой эпохе\n",
    "    accuracy = 100 * correct / len(train_dataset_mnist)\n",
    "    print(\"Accuracy = {}\".format(accuracy))\n",
    "\n",
    "print('Training is finished!')"
   ]
  },
  {
   "cell_type": "code",
   "execution_count": 21,
   "metadata": {},
   "outputs": [],
   "source": [
    "data_iter = iter(test_loader_mnist)\n",
    "images, labels = data_iter.next()"
   ]
  },
  {
   "cell_type": "code",
   "execution_count": 22,
   "metadata": {},
   "outputs": [
    {
     "name": "stderr",
     "output_type": "stream",
     "text": [
      "/home/alex/anaconda3/lib/python3.7/site-packages/ipykernel_launcher.py:14: UserWarning: Implicit dimension choice for softmax has been deprecated. Change the call to include dim=X as an argument.\n",
      "  \n"
     ]
    }
   ],
   "source": [
    "outputs = net(images)"
   ]
  },
  {
   "cell_type": "code",
   "execution_count": 23,
   "metadata": {},
   "outputs": [
    {
     "name": "stdout",
     "output_type": "stream",
     "text": [
      "GroundTruth:  tensor(7) tensor(2) tensor(1) tensor(0) tensor(4) tensor(1) tensor(4) tensor(9) tensor(5) tensor(9)\n",
      "Predicted  :  tensor(7) tensor(2) tensor(1) tensor(0) tensor(4) tensor(1) tensor(4) tensor(9) tensor(6) tensor(9)\n"
     ]
    }
   ],
   "source": [
    "_, predicted = torch.max(outputs, 1)\n",
    "\n",
    "print('GroundTruth: ', ' '.join('%5s' % labels[j] for j in range(10)))\n",
    "print('Predicted  : ', ' '.join('%5s' % predicted[j]\n",
    "                              for j in range(10)))"
   ]
  },
  {
   "cell_type": "markdown",
   "metadata": {},
   "source": [
    "Считаем accuracy для тестовой выборки"
   ]
  },
  {
   "cell_type": "code",
   "execution_count": 24,
   "metadata": {},
   "outputs": [
    {
     "name": "stderr",
     "output_type": "stream",
     "text": [
      "/home/alex/anaconda3/lib/python3.7/site-packages/ipykernel_launcher.py:14: UserWarning: Implicit dimension choice for softmax has been deprecated. Change the call to include dim=X as an argument.\n",
      "  \n"
     ]
    },
    {
     "name": "stdout",
     "output_type": "stream",
     "text": [
      "Accuracy = 95.70999908447266\n"
     ]
    }
   ],
   "source": [
    "correct = 0\n",
    "for i, data in enumerate(test_loader_mnist, 0):\n",
    "    images, labels = data[0], data[1]\n",
    "\n",
    "    outputs = net(images)\n",
    "    _, predicted = torch.max(outputs, 1)\n",
    "\n",
    "    correct += (labels == predicted).sum()\n",
    "            \n",
    "accuracy = 100 * correct / len(test_dataset_mnist)\n",
    "print(\"Accuracy = {}\".format(accuracy))"
   ]
  },
  {
   "cell_type": "code",
   "execution_count": null,
   "metadata": {},
   "outputs": [],
   "source": []
  },
  {
   "cell_type": "code",
   "execution_count": null,
   "metadata": {},
   "outputs": [],
   "source": []
  }
 ],
 "metadata": {
  "kernelspec": {
   "display_name": "Python 3",
   "language": "python",
   "name": "python3"
  }
 },
 "nbformat": 4,
 "nbformat_minor": 2
}
